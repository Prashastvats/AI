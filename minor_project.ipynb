{
  "nbformat": 4,
  "nbformat_minor": 0,
  "metadata": {
    "colab": {
      "name": "minor_project.ipynb",
      "provenance": []
    },
    "kernelspec": {
      "name": "python3",
      "display_name": "Python 3"
    }
  },
  "cells": [
    {
      "cell_type": "code",
      "metadata": {
        "colab": {
          "base_uri": "https://localhost:8080/"
        },
        "id": "WiPX1n5kCaT1",
        "outputId": "466326d8-b0fa-42b2-fcce-ac23fed5524b"
      },
      "source": [
        "import keras\n",
        "from keras.datasets import mnist\n",
        "import matplotlib.pyplot as plt\n",
        "# load (downloaded if needed) the MNIST dataset\n",
        "(x_train, y_train), (x_test, y_test) = mnist.load_data()\n",
        "print(x_train.shape, y_train.shape)"
      ],
      "execution_count": 10,
      "outputs": [
        {
          "output_type": "stream",
          "text": [
            "(60000, 28, 28) (60000,)\n"
          ],
          "name": "stdout"
        }
      ]
    },
    {
      "cell_type": "code",
      "metadata": {
        "colab": {
          "base_uri": "https://localhost:8080/",
          "height": 268
        },
        "id": "6lI809fnC5Jj",
        "outputId": "a37a6efe-2f76-4a4b-bb6a-4b78a0d231d4"
      },
      "source": [
        "# plot 4 images as gray scale\n",
        "plt.subplot(221)\n",
        "plt.imshow(x_train[0], cmap=plt.get_cmap('gray'))\n",
        "plt.subplot(222)\n",
        "plt.imshow(x_train[1], cmap=plt.get_cmap('gray'))\n",
        "plt.subplot(223)\n",
        "plt.imshow(x_train[200], cmap=plt.get_cmap('gray'))\n",
        "plt.subplot(224)\n",
        "plt.imshow(x_train[345], cmap=plt.get_cmap('gray'))\n",
        "# show the plot\n",
        "plt.show()"
      ],
      "execution_count": 11,
      "outputs": [
        {
          "output_type": "display_data",
          "data": {
            "image/png": "[encoded data removed]",
            "text/plain": [
              "<Figure size 432x288 with 4 Axes>"
            ]
          },
          "metadata": {
            "tags": [],
            "needs_background": "light"
          }
        }
      ]
    },
    {
      "cell_type": "code",
      "metadata": {
        "id": "yuCxCB79C8zi"
      },
      "source": [
        "# Reshaping the array to 4-dims so that it can work with the Keras API\n",
        "x_train = x_train.reshape(x_train.shape[0], 28, 28, 1)\n",
        "x_test = x_test.reshape(x_test.shape[0], 28, 28, 1)\n",
        "input_shape = (28, 28, 1)\n",
        "\n",
        "# Making sure that the values are float so that we can get decimal points after division\n",
        "x_train = x_train.astype('float32')\n",
        "x_test = x_test.astype('float32')"
      ],
      "execution_count": 12,
      "outputs": []
    },
    {
      "cell_type": "code",
      "metadata": {
        "colab": {
          "base_uri": "https://localhost:8080/"
        },
        "id": "y8Y4IBY_DC0_",
        "outputId": "42cea891-2e75-409f-dfb6-95104d4d8b2b"
      },
      "source": [
        "# Normalizing the RGB codes by dividing it to the max RGB value.\n",
        "x_train /= 255\n",
        "x_test /= 255\n",
        "print('x_train shape:', x_train.shape)\n",
        "print('Number of images in x_train', x_train.shape[0])\n",
        "print('Number of images in x_test', x_test.shape[0])"
      ],
      "execution_count": 13,
      "outputs": [
        {
          "output_type": "stream",
          "text": [
            "x_train shape: (60000, 28, 28, 1)\n",
            "Number of images in x_train 60000\n",
            "Number of images in x_test 10000\n"
          ],
          "name": "stdout"
        }
      ]
    },
    {
      "cell_type": "code",
      "metadata": {
        "id": "FHtHH7c-DGbm"
      },
      "source": [
        "batch_size = 128\n",
        "num_classes = 10\n",
        "epochs = 10\n",
        "\n",
        "# convert class vectors to binary class matrices\n",
        "y_train = keras.utils.to_categorical(y_train, num_classes)\n",
        "y_test = keras.utils.to_categorical(y_test, num_classes)"
      ],
      "execution_count": 14,
      "outputs": []
    },
    {
      "cell_type": "code",
      "metadata": {
        "id": "sRhotw8HDLVu"
      },
      "source": [
        "\n",
        "#import keras modules\n",
        "from keras.models import Sequential\n",
        "from keras.layers import Dense, Conv2D, Dropout, Flatten, MaxPooling2D\n",
        "from keras import backend as K"
      ],
      "execution_count": 15,
      "outputs": []
    },
    {
      "cell_type": "code",
      "metadata": {
        "id": "ZlMtQreMDPKq"
      },
      "source": [
        "model = Sequential()\n",
        "model.add(Conv2D(32, kernel_size=(3,3), activation='relu', input_shape=input_shape))\n",
        "model.add(MaxPooling2D(pool_size=(2, 2)))\n",
        "model.add(Conv2D(64, kernel_size=(3,3), input_shape=input_shape))\n",
        "model.add(MaxPooling2D(pool_size=(2, 2)))\n",
        "# Flattening the 2D arrays for fully connected layers\n",
        "\n",
        "model.add(Flatten()) \n",
        "model.add(Dense(128, activation='relu'))\n",
        "model.add(Dropout(0.2))\n",
        "model.add(Dense(num_classes, activation='softmax'))"
      ],
      "execution_count": 16,
      "outputs": []
    },
    {
      "cell_type": "code",
      "metadata": {
        "id": "8ScO7wcuDTp4"
      },
      "source": [
        "model.compile(loss=keras.losses.categorical_crossentropy,optimizer=keras.optimizers.Adadelta(),metrics=['accuracy'])"
      ],
      "execution_count": 17,
      "outputs": []
    },
    {
      "cell_type": "code",
      "metadata": {
        "colab": {
          "base_uri": "https://localhost:8080/"
        },
        "id": "RGp7KpR9DX_H",
        "outputId": "36eca4da-e990-439a-9e37-b69fd8b8a82f"
      },
      "source": [
        "hist = model.fit(x=x_train, y=y_train, batch_size=batch_size, epochs=epochs,verbose=1,validation_data=(x_test, y_test))\n",
        "print(\"The model has been succefully trained.\")"
      ],
      "execution_count": 18,
      "outputs": [
        {
          "output_type": "stream",
          "text": [
            "Epoch 1/10\n",
            "469/469 [==============================] - 44s 94ms/step - loss: 2.2964 - accuracy: 0.1100 - val_loss: 2.2786 - val_accuracy: 0.1352\n",
            "Epoch 2/10\n",
            "469/469 [==============================] - 44s 94ms/step - loss: 2.2637 - accuracy: 0.1614 - val_loss: 2.2446 - val_accuracy: 0.1888\n",
            "Epoch 3/10\n",
            "469/469 [==============================] - 44s 93ms/step - loss: 2.2288 - accuracy: 0.2181 - val_loss: 2.2074 - val_accuracy: 0.2513\n",
            "Epoch 4/10\n",
            "469/469 [==============================] - 45s 95ms/step - loss: 2.1901 - accuracy: 0.2969 - val_loss: 2.1660 - val_accuracy: 0.3748\n",
            "Epoch 5/10\n",
            "469/469 [==============================] - 45s 95ms/step - loss: 2.1474 - accuracy: 0.3924 - val_loss: 2.1193 - val_accuracy: 0.4992\n",
            "Epoch 6/10\n",
            "469/469 [==============================] - 44s 93ms/step - loss: 2.0985 - accuracy: 0.4701 - val_loss: 2.0654 - val_accuracy: 0.5707\n",
            "Epoch 7/10\n",
            "469/469 [==============================] - 44s 93ms/step - loss: 2.0414 - accuracy: 0.5269 - val_loss: 2.0035 - val_accuracy: 0.6194\n",
            "Epoch 8/10\n",
            "469/469 [==============================] - 44s 93ms/step - loss: 1.9772 - accuracy: 0.5663 - val_loss: 1.9325 - val_accuracy: 0.6572\n",
            "Epoch 9/10\n",
            "469/469 [==============================] - 44s 94ms/step - loss: 1.9036 - accuracy: 0.5997 - val_loss: 1.8508 - val_accuracy: 0.6907\n",
            "Epoch 10/10\n",
            "469/469 [==============================] - 44s 93ms/step - loss: 1.8193 - accuracy: 0.6291 - val_loss: 1.7578 - val_accuracy: 0.7163\n",
            "The model has been succefully trained.\n"
          ],
          "name": "stdout"
        }
      ]
    },
    {
      "cell_type": "code",
      "metadata": {
        "colab": {
          "base_uri": "https://localhost:8080/"
        },
        "id": "_wNwo4dnDbhh",
        "outputId": "564b97a3-21de-4ff9-d6ae-db64f2db2a7a"
      },
      "source": [
        "model.save('mnist.h5')\n",
        "print('The trained weights have been saved.')"
      ],
      "execution_count": 19,
      "outputs": [
        {
          "output_type": "stream",
          "text": [
            "The trained weights have been saved.\n"
          ],
          "name": "stdout"
        }
      ]
    },
    {
      "cell_type": "code",
      "metadata": {
        "colab": {
          "base_uri": "https://localhost:8080/"
        },
        "id": "GZw3HgQIG58R",
        "outputId": "9248e480-5cbc-4c77-86d5-245126c5c761"
      },
      "source": [
        "score = model.evaluate(x_test, y_test, verbose=0)\n",
        "print('Test loss:', score[0])\n",
        "print('Test accuracy:', score[1])"
      ],
      "execution_count": 20,
      "outputs": [
        {
          "output_type": "stream",
          "text": [
            "Test loss: 1.7578433752059937\n",
            "Test accuracy: 0.7163000106811523\n"
          ],
          "name": "stdout"
        }
      ]
    },
    {
      "cell_type": "code",
      "metadata": {
        "colab": {
          "base_uri": "https://localhost:8080/",
          "height": 282
        },
        "id": "NO8vlFOkG8-h",
        "outputId": "e4483891-6e59-4b22-9a24-7eafd58738a2"
      },
      "source": [
        "image_index = 4444\n",
        "plt.imshow(x_test[image_index].reshape(28, 28),cmap='Greys')\n",
        "pred = model.predict(x_test[image_index].reshape(1, 28, 28, 1))\n",
        "print('The number predicted is : ', pred.argmax())"
      ],
      "execution_count": 21,
      "outputs": [
        {
          "output_type": "stream",
          "text": [
            "The number predicted is :  9\n"
          ],
          "name": "stdout"
        },
        {
          "output_type": "display_data",
          "data": {
            "image/png": "[encoded data removed]",
            "text/plain": [
              "<Figure size 432x288 with 1 Axes>"
            ]
          },
          "metadata": {
            "tags": [],
            "needs_background": "light"
          }
        }
      ]
    },
    {
      "cell_type": "code",
      "metadata": {
        "id": "qbOt_MhIHBWh"
      },
      "source": [
        ""
      ],
      "execution_count": null,
      "outputs": []
    }
  ]
}